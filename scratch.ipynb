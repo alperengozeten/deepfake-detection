{
 "cells": [
  {
   "cell_type": "code",
   "execution_count": 1,
   "metadata": {},
   "outputs": [
    {
     "name": "stderr",
     "output_type": "stream",
     "text": [
      "c:\\Users\\PC\\anaconda3\\envs\\pytorch\\lib\\site-packages\\tqdm\\auto.py:22: TqdmWarning: IProgress not found. Please update jupyter and ipywidgets. See https://ipywidgets.readthedocs.io/en/stable/user_install.html\n",
      "  from .autonotebook import tqdm as notebook_tqdm\n"
     ]
    }
   ],
   "source": [
    "import torch\n",
    "import torchvision\n",
    "import torchvision.transforms as T\n",
    "import torch.optim as optim\n",
    "import torch.nn as nn\n",
    "import torch.nn.functional as F\n",
    "import matplotlib.pyplot as plt\n",
    "import numpy as np\n",
    "import pandas as pd\n",
    "import os, random\n",
    "from torchvision.transforms import Normalize\n",
    "import cv2\n",
    "import time\n",
    "import copy\n",
    "from tqdm import tqdm\n",
    "import timm\n",
    "from timm.loss import LabelSmoothingCrossEntropy # This is better than normal nn.CrossEntropyLoss\n",
    "from torch.utils.data import Dataset\n",
    "from torch.utils.data import DataLoader\n"
   ]
  },
  {
   "cell_type": "code",
   "execution_count": 2,
   "metadata": {},
   "outputs": [],
   "source": [
    "\n",
    "class Unnormalize:\n",
    "    \"\"\"Converts an image tensor that was previously Normalize'd\n",
    "    back to an image with pixels in the range [0, 1].\"\"\"\n",
    "    def __init__(self, mean, std):\n",
    "        self.mean = mean\n",
    "        self.std = std\n",
    "\n",
    "    def __call__(self, tensor):\n",
    "        mean = torch.as_tensor(self.mean, dtype=tensor.dtype, device=tensor.device).view(3, 1, 1)\n",
    "        std = torch.as_tensor(self.std, dtype=tensor.dtype, device=tensor.device).view(3, 1, 1)\n",
    "        return torch.clamp(tensor*std + mean, 0., 1.)\n",
    "\n",
    "\n",
    "mean = [0.485, 0.456, 0.406]\n",
    "std = [0.229, 0.224, 0.225]\n",
    "normalize_transform = Normalize(mean, std)\n",
    "unnormalize_transform = Unnormalize(mean, std)"
   ]
  },
  {
   "cell_type": "code",
   "execution_count": 3,
   "metadata": {},
   "outputs": [],
   "source": [
    "image_size = 224\n",
    "batch_size = 64\n",
    "metadata=pd.read_csv(r\"C:\\\\Users\\\\PC\\Desktop\\\\CS464\\\\face-verification\\\\archive\\\\metadata.csv\")\n",
    "crops_dir=r\"C:\\\\Users\\\\PC\\Desktop\\\\CS464\\\\face-verification\\\\archive\\\\faces_224\"\n",
    "\n",
    "# def random_hflip(img, p=0.5):\n",
    "#     \"\"\"Random horizontal flip.\"\"\"\n",
    "#     if random.random() < p:\n",
    "#         return cv2.flip(img, 1)\n",
    "#     else:\n",
    "#         return img"
   ]
  },
  {
   "cell_type": "code",
   "execution_count": 4,
   "metadata": {},
   "outputs": [],
   "source": [
    "def random_hflip(img, p=1):\n",
    "    \"\"\"Random horizontal flip.\"\"\"\n",
    "    if random.random() < p:\n",
    "        return cv2.flip(img, 1)\n",
    "    else:\n",
    "        return img\n",
    "\n",
    "def rotate(image, angle=90, scale=1.0):\n",
    "    '''\n",
    "    Rotate the image\n",
    "    :param image: image to be processed\n",
    "    :param angle: Rotation angle in degrees. Positive values mean counter-clockwise rotation (the coordinate origin is assumed to be the top-left corner).\n",
    "    :param scale: Isotropic scale factor.\n",
    "    '''\n",
    "    w = image.shape[1]\n",
    "    h = image.shape[0]\n",
    "    #rotate matrix\n",
    "    M = cv2.getRotationMatrix2D((w/2,h/2), angle, scale)\n",
    "    #rotate\n",
    "    image = cv2.warpAffine(image,M,(w,h))\n",
    "    return image"
   ]
  },
  {
   "cell_type": "code",
   "execution_count": 5,
   "metadata": {},
   "outputs": [],
   "source": [
    "# def load_image_and_label(filename, cls, crops_dir, image_size, augment):\n",
    "#     \"\"\"Loads an image into a tensor. Also returns its label.\"\"\"\n",
    "#     img = cv2.imread(os.path.join(crops_dir, filename))\n",
    "#     img = cv2.cvtColor(img, cv2.COLOR_BGR2RGB)\n",
    "\n",
    "#     if augment: \n",
    "#         img = random_hflip(img)\n",
    "\n",
    "#     img = cv2.resize(img, (image_size, image_size))\n",
    "\n",
    "#     img = torch.tensor(img).permute((2, 0, 1)).float().div(255)\n",
    "#     img = normalize_transform(img)\n",
    "\n",
    "#     target = 1 if cls == \"FAKE\" else 0\n",
    "#     return img, target\n",
    "def load_image_and_label(filename, cls, crops_dir, image_size, augment=0):\n",
    "    \"\"\"Loads an image into a tensor. Also returns its label.\"\"\"\n",
    "    img = cv2.imread(os.path.join(crops_dir, filename))\n",
    "    img = cv2.cvtColor(img, cv2.COLOR_BGR2RGB)\n",
    "\n",
    "    if cls== \"REAL\":\n",
    "        if augment==1: \n",
    "        \n",
    "            img = cv2.flip(img,1)\n",
    "        \n",
    "        elif augment==2:\n",
    "        \n",
    "            img=cv2.flip(img,0)\n",
    "        \n",
    "        elif augment==3:\n",
    "        \n",
    "            img=rotate(img,90,1.0)    \n",
    "        \n",
    "        elif augment==4:\n",
    "        \n",
    "            img=rotate(img,270,1.0)   \n",
    "\n",
    "    img = cv2.resize(img, (image_size, image_size))\n",
    "\n",
    "    img = torch.tensor(img).permute((2, 0, 1)).float().div(255)\n",
    "    img = normalize_transform(img)\n",
    "\n",
    "    target = 1 if cls == \"FAKE\" else 0\n",
    "    return img, target"
   ]
  },
  {
   "cell_type": "code",
   "execution_count": 6,
   "metadata": {},
   "outputs": [],
   "source": [
    "class VideoDataset(Dataset):\n",
    "    \"\"\"Face crops dataset.\n",
    "\n",
    "    Arguments:\n",
    "        crops_dir: base folder for face crops\n",
    "        df: Pandas DataFrame with metadata\n",
    "        split: if \"train\", applies data augmentation\n",
    "        image_size: resizes the image to a square of this size\n",
    "        sample_size: evenly samples this many videos from the REAL\n",
    "            and FAKE subfolders (None = use all videos)\n",
    "        seed: optional random seed for sampling\n",
    "    \"\"\"\n",
    "    def __init__(self, crops_dir, df, split, image_size,augment=False, oversample=False, sample_size=None, seed=None):\n",
    "        self.crops_dir = crops_dir\n",
    "        self.split = split\n",
    "        self.image_size = image_size\n",
    "        self.augment=augment\n",
    "        self.oversample = oversample\n",
    "        \n",
    "        if sample_size is not None:\n",
    "            real_df = df[df[\"label\"] == \"REAL\"]\n",
    "            fake_df = df[df[\"label\"] == \"FAKE\"]\n",
    "            sample_size = np.min(np.array([sample_size, len(real_df), len(fake_df)]))\n",
    "            print(\"%s: sampling %d from %d real videos\" % (split, sample_size, len(real_df)))\n",
    "            print(\"%s: sampling %d from %d fake videos\" % (split, sample_size, len(fake_df)))\n",
    "            real_df = real_df.sample(sample_size, random_state=seed)\n",
    "            fake_df = fake_df.sample(sample_size, random_state=seed)\n",
    "            self.df = pd.concat([real_df, fake_df])\n",
    "            self.df['aug'] = np.zeros((len(self.df), 1))\n",
    "        elif self.augment:\n",
    "            real_df = df[df[\"label\"] == \"REAL\"]\n",
    "            real_df[\"aug\"]=np.zeros((len(real_df),1))\n",
    "            \n",
    "            real_df1=real_df.copy()\n",
    "            real_df1[\"aug\"]=np.ones((len(real_df),1))\n",
    "            \n",
    "            real_df2=real_df.copy()\n",
    "            real_df2[\"aug\"]=np.ones((len(real_df),1))*2\n",
    "            \n",
    "            real_df3=real_df.copy()\n",
    "            real_df3[\"aug\"]=np.ones((len(real_df),1))*3\n",
    "            \n",
    "            real_df4=real_df.copy()\n",
    "            real_df4[\"aug\"]=np.ones((len(real_df),1))*4\n",
    "            \n",
    "            fake_df = df[df[\"label\"] == \"FAKE\"]\n",
    "            fake_df[\"aug\"]=np.zeros((len(fake_df),1))\n",
    "            \n",
    "            self.df = pd.concat([real_df, real_df1, real_df2, real_df3, real_df4, fake_df])\n",
    "        elif self.oversample: # oversample the real data\n",
    "            real_df = df[df[\"label\"] == \"REAL\"] \n",
    "            fake_df = df[df[\"label\"] == \"FAKE\"]\n",
    "            \n",
    "            real_df1 = real_df.copy()\n",
    "            real_df2 = real_df.copy()\n",
    "            real_df3 = real_df.copy()\n",
    "            real_df4 = real_df.copy()\n",
    "            self.df = pd.concat([real_df, real_df1, real_df2, real_df3, real_df4, fake_df])\n",
    "            self.df['aug'] = np.zeros((len(self.df), 1))\n",
    "        else:\n",
    "            self.df = df\n",
    "            self.df['aug'] = np.zeros((len(self.df), 1))\n",
    "\n",
    "        num_real = len(self.df[self.df[\"label\"] == \"REAL\"])\n",
    "        num_fake = len(self.df[self.df[\"label\"] == \"FAKE\"])\n",
    "        print(\"%s dataset has %d real videos, %d fake videos\" % (split, num_real, num_fake))\n",
    "\n",
    "    def __getitem__(self, index):\n",
    "        row = self.df.iloc[index]\n",
    "        filename = row[\"videoname\"][:-4] + \".jpg\"\n",
    "        cls = row[\"label\"]\n",
    "        return load_image_and_label(filename, cls, self.crops_dir, \n",
    "                                    self.image_size, row[\"aug\"])\n",
    "    def __len__(self):\n",
    "        return len(self.df)"
   ]
  },
  {
   "cell_type": "code",
   "execution_count": 7,
   "metadata": {},
   "outputs": [],
   "source": [
    "def make_splits(crops_dir, metadata_df, frac):\n",
    "    # Make a validation split. Sample a percentage of the real videos, \n",
    "    # and also grab the corresponding fake videos.\n",
    "    frac=frac*2\n",
    "    real_rows = metadata_df[metadata_df[\"label\"] == \"REAL\"]\n",
    "    real_df = real_rows.sample(frac=frac, random_state=666)\n",
    "    fake_df = metadata_df[metadata_df[\"original\"].isin(real_df[\"videoname\"])]\n",
    "    r=len(real_df)\n",
    "    f=len(fake_df)\n",
    "    real_1=real_df[:int(r/2)]\n",
    "    real_2=real_df[int(r/2):]\n",
    "    fake_1=fake_df[:int(f/2)]\n",
    "    fake_2=fake_df[int(f/2):]   \n",
    "    val_df = pd.concat([real_1, fake_1])\n",
    "    test_df=pd.concat([real_2, fake_2])\n",
    "\n",
    "    #shuffle\n",
    "    val_df=val_df.sample(frac=1,random_state=666)\n",
    "    test_df=test_df.sample(frac=1,random_state=666)\n",
    "\n",
    "    # The training split is the remaining videos.\n",
    "    train_df = metadata_df.loc[~(metadata_df.index.isin( val_df.index) | metadata_df.index.isin( test_df.index))]\n",
    "\n",
    "    return train_df, val_df, test_df\n",
    "\n",
    "# def make_splits(crops_dir, metadata_df, frac):\n",
    "#     # Make a validation split. Sample a percentage of the real videos, \n",
    "#     # and also grab the corresponding fake videos.\n",
    "#     real_rows = metadata_df[metadata_df[\"label\"] == \"REAL\"]\n",
    "#     real_df = real_rows.sample(frac=1, random_state=666)\n",
    "#     fake_df = metadata_df[metadata_df[\"original\"].isin(real_df[\"videoname\"])]\n",
    "#     fake_df=fake_df.sample(frac=1,random_state=666)[:len(real_df)]\n",
    "#     r=len(real_df)\n",
    "#     f=len(fake_df)\n",
    "\n",
    "#     real_1=real_df[:int(8*r/10)]\n",
    "#     real_2=real_df[int(8*r/10):int(9*r/10)]\n",
    "#     real_3=real_df[int(9*r/10):]\n",
    "#     fake_1=fake_df[:int(8*r/10)]\n",
    "#     fake_2=fake_df[int(8*r/10):int(9*r/10)]  \n",
    "#     fake_3=fake_df[int(9*r/10):] \n",
    "\n",
    "#     val_df = pd.concat([real_2, fake_2])\n",
    "#     test_df=pd.concat([real_3, fake_3])\n",
    "#     train_df=pd.concat([real_1, fake_1])\n",
    "\n",
    "#     train_df=train_df.sample(frac=1,random_state=666)\n",
    "#     val_df=val_df.sample(frac=1,random_state=666)\n",
    "#     test_df=test_df.sample(frac=1,random_state=666)\n",
    "    \n",
    "#     return train_df, val_df, test_df"
   ]
  },
  {
   "cell_type": "code",
   "execution_count": 8,
   "metadata": {},
   "outputs": [],
   "source": [
    "def create_data_loaders(crops_dir, metadata_df, image_size, batch_size, num_workers=0):\n",
    "    train_df, val_df,test_df = make_splits(crops_dir, metadata_df, frac=0.05)\n",
    "\n",
    "    train_dataset = VideoDataset(crops_dir, train_df, \"train\", image_size,augment=False, oversample=True, sample_size=None)\n",
    "    train_loader = DataLoader(train_dataset, batch_size=batch_size, shuffle=True, \n",
    "                              num_workers=num_workers, pin_memory=True)\n",
    "\n",
    "    val_dataset = VideoDataset(crops_dir, val_df, \"val\", image_size,augment=False, oversample=True, sample_size=None, seed=1234)\n",
    "    val_loader = DataLoader(val_dataset, batch_size=batch_size, shuffle=False, \n",
    "                            num_workers=num_workers, pin_memory=True)\n",
    "    \n",
    "    test_dataset = VideoDataset(crops_dir, test_df, \"test\", image_size, sample_size=None, seed=4321)\n",
    "    test_loader = DataLoader(test_dataset, batch_size=batch_size, shuffle=True, \n",
    "                            num_workers=num_workers, pin_memory=True)\n",
    "\n",
    "    return train_loader, val_loader, test_loader"
   ]
  },
  {
   "cell_type": "code",
   "execution_count": 9,
   "metadata": {},
   "outputs": [
    {
     "name": "stdout",
     "output_type": "stream",
     "text": [
      "train dataset has 73320 real videos, 71562 fake videos\n",
      "val dataset has 4070 real videos, 3889 fake videos\n",
      "test dataset has 815 real videos, 3890 fake videos\n"
     ]
    }
   ],
   "source": [
    "train_loader, val_loader, test_loader = create_data_loaders(crops_dir, metadata, image_size, \n",
    "                                               batch_size, num_workers=0)"
   ]
  },
  {
   "cell_type": "code",
   "execution_count": 10,
   "metadata": {},
   "outputs": [],
   "source": [
    "dataloaders = {\n",
    "    \"train\": train_loader,\n",
    "    \"val\": val_loader,\n",
    "    \"test\": test_loader\n",
    "}\n",
    "dataset_sizes = {\n",
    "    \"train\": len(train_loader.dataset),\n",
    "    \"val\": len(val_loader.dataset),\n",
    "    \"test\": len(test_loader.dataset)\n",
    "}"
   ]
  },
  {
   "cell_type": "code",
   "execution_count": 11,
   "metadata": {},
   "outputs": [
    {
     "data": {
      "text/plain": [
       "device(type='cuda')"
      ]
     },
     "execution_count": 11,
     "metadata": {},
     "output_type": "execute_result"
    }
   ],
   "source": [
    "device = torch.device('cuda' if torch.cuda.is_available() else 'cpu')\n",
    "device"
   ]
  },
  {
   "cell_type": "code",
   "execution_count": 12,
   "metadata": {},
   "outputs": [],
   "source": [
    "# \"\"\"\n",
    "#     Propsoed CNN architecture.\n",
    "    \n",
    "# \"\"\"\n",
    "\n",
    "# class CNN(nn.Module):\n",
    "#     def __init__(self):\n",
    "#         super(CNN, self).__init__()\n",
    "\n",
    "#         # Pamameters Initialization\n",
    "#         input_shape = (3,224,224)\n",
    "#         activation = nn.Sigmoid()\n",
    "#         padding = 1\n",
    "#         droprate = 0.1\n",
    "#         epsilon=0.001\n",
    "\n",
    "#         self.layer1 = nn.Sequential(\n",
    "#             nn.BatchNorm2d(num_features=input_shape[0]),\n",
    "#             nn.Conv2d(in_channels=input_shape[0], out_channels=8, kernel_size=3, stride=1, padding=padding),\n",
    "#             activation,\n",
    "#             nn.MaxPool2d(kernel_size=2, stride=2),\n",
    "#             nn.BatchNorm2d(num_features=8, eps=epsilon)\n",
    "#         )\n",
    "\n",
    "#         self.layer2 = nn.Sequential(\n",
    "#             nn.Conv2d(in_channels=8, out_channels=16, kernel_size=3, stride=1, padding=padding),\n",
    "#             activation,\n",
    "#             nn.MaxPool2d(kernel_size=2, stride=2),\n",
    "#             nn.BatchNorm2d(num_features=16, eps=epsilon),\n",
    "#             nn.Dropout2d(p=droprate)\n",
    "#         )\n",
    "\n",
    "#         self.layer3 = nn.Sequential(\n",
    "#             nn.Conv2d(in_channels=16, out_channels=32, kernel_size=3, stride=1, padding=padding),\n",
    "#             activation,\n",
    "#             nn.MaxPool2d(kernel_size=2, stride=2),\n",
    "#             nn.BatchNorm2d(num_features=32, eps=epsilon),\n",
    "#             nn.Dropout2d(p=droprate)\n",
    "#         )\n",
    "\n",
    "#         self.layer4 = nn.Sequential(\n",
    "#             nn.Conv2d(in_channels=32, out_channels=64, kernel_size=3, stride=1, padding=padding),\n",
    "#             activation,\n",
    "#             nn.MaxPool2d(kernel_size=2, stride=2),\n",
    "#             nn.BatchNorm2d(num_features=64, eps=epsilon),\n",
    "#             nn.Dropout2d(p=droprate)\n",
    "#         )\n",
    "\n",
    "#         self.layer5 = nn.Sequential(\n",
    "#             nn.Conv2d(in_channels=64, out_channels=128, kernel_size=3, stride=1, padding=padding),\n",
    "#             activation,\n",
    "#             nn.MaxPool2d(kernel_size=2, stride=2),\n",
    "#             nn.BatchNorm2d(num_features=128, eps=epsilon),\n",
    "#             nn.Dropout2d(p=droprate)\n",
    "#         )\n",
    "\n",
    "#         self.layer6 = nn.Sequential(\n",
    "#             nn.Conv2d(in_channels=128, out_channels=256, kernel_size=3, stride=1, padding=padding),\n",
    "#             activation,\n",
    "#             nn.MaxPool2d(kernel_size=2, stride=2),\n",
    "#             nn.BatchNorm2d(num_features=256, eps=epsilon),\n",
    "#             nn.Dropout2d(p=droprate)\n",
    "#         )\n",
    "#         self.layer7 = nn.Sequential(\n",
    "#             nn.Conv2d(in_channels=256, out_channels=512, kernel_size=3, stride=1, padding=padding),\n",
    "#             activation,\n",
    "#             nn.MaxPool2d(kernel_size=2, stride=2),\n",
    "#             nn.BatchNorm2d(num_features=512, eps=epsilon),\n",
    "#             nn.Dropout2d(p=droprate)\n",
    "#         )\n",
    "#         self.layer8 = nn.Sequential(\n",
    "#             nn.AdaptiveAvgPool2d(output_size=(1, 1)),\n",
    "#             nn.Flatten(),\n",
    "#             nn.Linear(512, 2),\n",
    "#             nn.Sigmoid()\n",
    "#         )\n",
    "\n",
    "#     def forward(self, x):\n",
    "#         x = self.layer1(x)\n",
    "#         x = self.layer2(x)\n",
    "#         x = self.layer3(x)\n",
    "#         x = self.layer4(x)\n",
    "#         x = self.layer5(x)\n",
    "#         x = self.layer6(x)\n",
    "#         x = self.layer7(x)\n",
    "#         x = self.layer8(x)\n",
    "\n",
    "#         return x\n",
    "\n",
    "# model = CNN()\n",
    "\"\"\"\n",
    "    Propsoed CNN architecture.\n",
    "    \n",
    "\"\"\"\n",
    "\n",
    "class CNN(nn.Module):\n",
    "    def __init__(self):\n",
    "        super(CNN, self).__init__()\n",
    "\n",
    "        # Pamameters Initialization\n",
    "        input_shape = (3,224,224)\n",
    "        activation = nn.LeakyReLU()\n",
    "        padding = 2\n",
    "        droprate = 0.1\n",
    "        epsilon=0.001\n",
    "\n",
    "        self.layer1 = nn.Sequential(\n",
    "            nn.BatchNorm2d(num_features=input_shape[0]),\n",
    "            nn.Conv2d(in_channels=input_shape[0], out_channels=8, kernel_size=3, stride=1, padding=padding),\n",
    "            activation,\n",
    "            nn.MaxPool2d(kernel_size=2, stride=2),\n",
    "            nn.BatchNorm2d(num_features=8, eps=epsilon)\n",
    "        )\n",
    "\n",
    "        self.layer2 = nn.Sequential(\n",
    "            nn.Conv2d(in_channels=8, out_channels=16, kernel_size=3, stride=1, padding=padding),\n",
    "            activation,\n",
    "            nn.MaxPool2d(kernel_size=2, stride=2),\n",
    "            nn.BatchNorm2d(num_features=16, eps=epsilon),\n",
    "            nn.Dropout2d(p=droprate)\n",
    "        )\n",
    "\n",
    "        self.layer3 = nn.Sequential(\n",
    "            nn.Conv2d(in_channels=16, out_channels=32, kernel_size=3, stride=1, padding=padding),\n",
    "            activation,\n",
    "            nn.MaxPool2d(kernel_size=2, stride=2),\n",
    "            nn.BatchNorm2d(num_features=32, eps=epsilon),\n",
    "            nn.Dropout2d(p=droprate)\n",
    "        )\n",
    "\n",
    "        self.layer4 = nn.Sequential(\n",
    "            nn.Conv2d(in_channels=32, out_channels=64, kernel_size=3, stride=1, padding=padding),\n",
    "            activation,\n",
    "            nn.MaxPool2d(kernel_size=2, stride=2),\n",
    "            nn.BatchNorm2d(num_features=64, eps=epsilon),\n",
    "            nn.Dropout2d(p=droprate)\n",
    "        )\n",
    "\n",
    "        self.layer5 = nn.Sequential(\n",
    "            nn.Conv2d(in_channels=64, out_channels=128, kernel_size=3, stride=1, padding=padding),\n",
    "            activation,\n",
    "            nn.MaxPool2d(kernel_size=2, stride=2),\n",
    "            nn.BatchNorm2d(num_features=128, eps=epsilon),\n",
    "            nn.Dropout2d(p=droprate)\n",
    "        )\n",
    "\n",
    "        self.layer6 = nn.Sequential(\n",
    "            nn.Conv2d(in_channels=128, out_channels=256, kernel_size=3, stride=1, padding=padding),\n",
    "            activation,\n",
    "            nn.MaxPool2d(kernel_size=2, stride=2),\n",
    "            nn.BatchNorm2d(num_features=256, eps=epsilon),\n",
    "            nn.Dropout2d(p=droprate)\n",
    "        )\n",
    "        self.layer7 = nn.Sequential(\n",
    "            nn.Conv2d(in_channels=256, out_channels=512, kernel_size=3, stride=1, padding=padding),\n",
    "            activation,\n",
    "            nn.MaxPool2d(kernel_size=2, stride=2),\n",
    "            nn.BatchNorm2d(num_features=512, eps=epsilon),\n",
    "            nn.Dropout2d(p=droprate)\n",
    "        )\n",
    "        self.layer8 = nn.Sequential(\n",
    "            nn.Conv2d(in_channels=512, out_channels=512, kernel_size=3, stride=1, padding=padding),\n",
    "            activation,\n",
    "            nn.MaxPool2d(kernel_size=2, stride=2),\n",
    "            nn.BatchNorm2d(num_features=512, eps=epsilon),\n",
    "            nn.Dropout2d(p=droprate)\n",
    "        )\n",
    "        self.layer9 = nn.Sequential(\n",
    "            nn.AdaptiveAvgPool2d(output_size=(1, 1)),\n",
    "            nn.Flatten(),\n",
    "            nn.Linear(512, 2),\n",
    "            nn.Sigmoid()\n",
    "        )\n",
    "        \n",
    "\n",
    "    def forward(self, x):\n",
    "        x = self.layer1(x)\n",
    "        x = self.layer2(x)\n",
    "        x = self.layer3(x)\n",
    "        x = self.layer4(x)\n",
    "        x = self.layer5(x)\n",
    "        x = self.layer6(x)\n",
    "        x = self.layer7(x)\n",
    "        x = self.layer8(x)\n",
    "        x = self.layer9(x)\n",
    "\n",
    "        return x\n",
    "\n",
    "model = CNN()"
   ]
  },
  {
   "cell_type": "code",
   "execution_count": 13,
   "metadata": {},
   "outputs": [
    {
     "data": {
      "text/plain": [
       "True"
      ]
     },
     "execution_count": 13,
     "metadata": {},
     "output_type": "execute_result"
    }
   ],
   "source": [
    "torch.cuda.empty_cache()\n",
    "torch.cuda.is_available()"
   ]
  },
  {
   "cell_type": "code",
   "execution_count": 14,
   "metadata": {},
   "outputs": [],
   "source": [
    "model = model.to(device)"
   ]
  },
  {
   "cell_type": "code",
   "execution_count": 15,
   "metadata": {},
   "outputs": [],
   "source": [
    "criterion = LabelSmoothingCrossEntropy()\n",
    "criterion = criterion.to(device)\n",
    "optimizer = optim.Adam(model.parameters(), lr=0.0001)"
   ]
  },
  {
   "cell_type": "code",
   "execution_count": 16,
   "metadata": {},
   "outputs": [],
   "source": [
    "# lr scheduler\n",
    "exp_lr_scheduler = optim.lr_scheduler.StepLR(optimizer, step_size=5)"
   ]
  },
  {
   "cell_type": "code",
   "execution_count": 17,
   "metadata": {},
   "outputs": [],
   "source": [
    "def train_model(model, criterion, optimizer, scheduler, num_epochs = 10):\n",
    "    loss_train=[]\n",
    "    acc_train=[]\n",
    "    loss_val=[]\n",
    "    acc_val=[]\n",
    "    since = time.time()\n",
    "    best_model_wts = copy.deepcopy(model.state_dict())\n",
    "    best_acc = 0.0\n",
    "    \n",
    "    for epoch in range(num_epochs):\n",
    "        print(f'Epoch {epoch}/{num_epochs - 1}')\n",
    "        print(\"-\"*10)\n",
    "        \n",
    "        for phase in ['train', 'val']: # We do training and validation phase per epoch\n",
    "            if phase == 'train':\n",
    "                model.train() # model to training mode\n",
    "            else:\n",
    "                model.eval() # model to evaluate\n",
    "            \n",
    "            running_loss = 0.0\n",
    "            running_corrects = 0.0\n",
    "            \n",
    "            for inputs, labels in tqdm(dataloaders[phase]):\n",
    "                inputs = inputs.to(device)\n",
    "                labels = labels.to(device)\n",
    "                \n",
    "                optimizer.zero_grad()\n",
    "                \n",
    "                with torch.set_grad_enabled(phase == 'train'): # no autograd makes validation go faster\n",
    "                    outputs = model(inputs)\n",
    "                    _, preds = torch.max(outputs, 1) # used for accuracy\n",
    "                    loss = criterion(outputs, labels)\n",
    "                    \n",
    "                    if phase == 'train':\n",
    "                        loss.backward()\n",
    "                        optimizer.step()\n",
    "                running_loss += loss.item() * inputs.size(0)\n",
    "                running_corrects += torch.sum(preds == labels.data)\n",
    "                \n",
    "            if phase == 'train':\n",
    "                scheduler.step() # step at end of epoch\n",
    "            \n",
    "            epoch_loss = running_loss / dataset_sizes[phase]\n",
    "            epoch_acc =  running_corrects.double() / dataset_sizes[phase]\n",
    "            if phase == 'train':\n",
    "                loss_train.append(epoch_loss)\n",
    "                acc_train.append(epoch_acc)\n",
    "            else:\n",
    "                loss_val.append(epoch_loss)\n",
    "                acc_val.append(epoch_acc)\n",
    "\n",
    "\n",
    "\n",
    "            \n",
    "            print(\"{} Loss: {:.4f} Acc: {:.4f}\".format(phase, epoch_loss, epoch_acc))\n",
    "            loss_train.append(epoch_loss)\n",
    "            acc_train.append(epoch_acc)\n",
    "            \n",
    "            if phase == 'val' and epoch_acc > best_acc:\n",
    "                best_acc = epoch_acc\n",
    "                best_model_wts = copy.deepcopy(model.state_dict()) # keep the best validation accuracy model\n",
    "        print()\n",
    "    time_elapsed = time.time() - since # slight error\n",
    "    print('Training complete in {:.0f}m {:.0f}s'.format(time_elapsed // 60, time_elapsed % 60))\n",
    "    print(\"Best Val Acc: {:.4f}\".format(best_acc))\n",
    "    \n",
    "    model.load_state_dict(best_model_wts)\n",
    "    return model, loss_train, acc_train, loss_val, acc_val"
   ]
  },
  {
   "cell_type": "code",
   "execution_count": 18,
   "metadata": {},
   "outputs": [
    {
     "name": "stdout",
     "output_type": "stream",
     "text": [
      "Epoch 0/9\n",
      "----------\n"
     ]
    },
    {
     "name": "stderr",
     "output_type": "stream",
     "text": [
      "100%|██████████| 2264/2264 [06:47<00:00,  5.55it/s]\n"
     ]
    },
    {
     "name": "stdout",
     "output_type": "stream",
     "text": [
      "train Loss: 0.6326 Acc: 0.6602\n"
     ]
    },
    {
     "name": "stderr",
     "output_type": "stream",
     "text": [
      "100%|██████████| 125/125 [00:18<00:00,  6.91it/s]\n"
     ]
    },
    {
     "name": "stdout",
     "output_type": "stream",
     "text": [
      "val Loss: 0.6000 Acc: 0.7015\n",
      "\n",
      "Epoch 1/9\n",
      "----------\n"
     ]
    },
    {
     "name": "stderr",
     "output_type": "stream",
     "text": [
      "100%|██████████| 2264/2264 [06:17<00:00,  6.00it/s]\n"
     ]
    },
    {
     "name": "stdout",
     "output_type": "stream",
     "text": [
      "train Loss: 0.5713 Acc: 0.7491\n"
     ]
    },
    {
     "name": "stderr",
     "output_type": "stream",
     "text": [
      "100%|██████████| 125/125 [00:18<00:00,  6.60it/s]\n"
     ]
    },
    {
     "name": "stdout",
     "output_type": "stream",
     "text": [
      "val Loss: 0.5605 Acc: 0.7609\n",
      "\n",
      "Epoch 2/9\n",
      "----------\n"
     ]
    },
    {
     "name": "stderr",
     "output_type": "stream",
     "text": [
      "100%|██████████| 2264/2264 [05:56<00:00,  6.35it/s]\n"
     ]
    },
    {
     "name": "stdout",
     "output_type": "stream",
     "text": [
      "train Loss: 0.5364 Acc: 0.7929\n"
     ]
    },
    {
     "name": "stderr",
     "output_type": "stream",
     "text": [
      "100%|██████████| 125/125 [00:16<00:00,  7.70it/s]\n"
     ]
    },
    {
     "name": "stdout",
     "output_type": "stream",
     "text": [
      "val Loss: 0.5464 Acc: 0.7750\n",
      "\n",
      "Epoch 3/9\n",
      "----------\n"
     ]
    },
    {
     "name": "stderr",
     "output_type": "stream",
     "text": [
      "100%|██████████| 2264/2264 [05:58<00:00,  6.31it/s]\n"
     ]
    },
    {
     "name": "stdout",
     "output_type": "stream",
     "text": [
      "train Loss: 0.5128 Acc: 0.8228\n"
     ]
    },
    {
     "name": "stderr",
     "output_type": "stream",
     "text": [
      "100%|██████████| 125/125 [00:18<00:00,  6.86it/s]\n"
     ]
    },
    {
     "name": "stdout",
     "output_type": "stream",
     "text": [
      "val Loss: 0.5350 Acc: 0.7953\n",
      "\n",
      "Epoch 4/9\n",
      "----------\n"
     ]
    },
    {
     "name": "stderr",
     "output_type": "stream",
     "text": [
      "100%|██████████| 2264/2264 [07:02<00:00,  5.36it/s]\n"
     ]
    },
    {
     "name": "stdout",
     "output_type": "stream",
     "text": [
      "train Loss: 0.4950 Acc: 0.8451\n"
     ]
    },
    {
     "name": "stderr",
     "output_type": "stream",
     "text": [
      "100%|██████████| 125/125 [00:18<00:00,  6.92it/s]\n"
     ]
    },
    {
     "name": "stdout",
     "output_type": "stream",
     "text": [
      "val Loss: 0.5302 Acc: 0.7987\n",
      "\n",
      "Epoch 5/9\n",
      "----------\n"
     ]
    },
    {
     "name": "stderr",
     "output_type": "stream",
     "text": [
      "100%|██████████| 2264/2264 [05:59<00:00,  6.31it/s]\n"
     ]
    },
    {
     "name": "stdout",
     "output_type": "stream",
     "text": [
      "train Loss: 0.4694 Acc: 0.8768\n"
     ]
    },
    {
     "name": "stderr",
     "output_type": "stream",
     "text": [
      "100%|██████████| 125/125 [00:16<00:00,  7.45it/s]\n"
     ]
    },
    {
     "name": "stdout",
     "output_type": "stream",
     "text": [
      "val Loss: 0.5183 Acc: 0.8183\n",
      "\n",
      "Epoch 6/9\n",
      "----------\n"
     ]
    },
    {
     "name": "stderr",
     "output_type": "stream",
     "text": [
      "100%|██████████| 2264/2264 [05:48<00:00,  6.50it/s]\n"
     ]
    },
    {
     "name": "stdout",
     "output_type": "stream",
     "text": [
      "train Loss: 0.4615 Acc: 0.8863\n"
     ]
    },
    {
     "name": "stderr",
     "output_type": "stream",
     "text": [
      "100%|██████████| 125/125 [00:16<00:00,  7.69it/s]\n"
     ]
    },
    {
     "name": "stdout",
     "output_type": "stream",
     "text": [
      "val Loss: 0.5108 Acc: 0.8236\n",
      "\n",
      "Epoch 7/9\n",
      "----------\n"
     ]
    },
    {
     "name": "stderr",
     "output_type": "stream",
     "text": [
      "100%|██████████| 2264/2264 [05:53<00:00,  6.40it/s]\n"
     ]
    },
    {
     "name": "stdout",
     "output_type": "stream",
     "text": [
      "train Loss: 0.4564 Acc: 0.8922\n"
     ]
    },
    {
     "name": "stderr",
     "output_type": "stream",
     "text": [
      "100%|██████████| 125/125 [00:16<00:00,  7.48it/s]\n"
     ]
    },
    {
     "name": "stdout",
     "output_type": "stream",
     "text": [
      "val Loss: 0.5090 Acc: 0.8290\n",
      "\n",
      "Epoch 8/9\n",
      "----------\n"
     ]
    },
    {
     "name": "stderr",
     "output_type": "stream",
     "text": [
      "100%|██████████| 2264/2264 [05:49<00:00,  6.47it/s]\n"
     ]
    },
    {
     "name": "stdout",
     "output_type": "stream",
     "text": [
      "train Loss: 0.4532 Acc: 0.8963\n"
     ]
    },
    {
     "name": "stderr",
     "output_type": "stream",
     "text": [
      "100%|██████████| 125/125 [00:17<00:00,  7.17it/s]\n"
     ]
    },
    {
     "name": "stdout",
     "output_type": "stream",
     "text": [
      "val Loss: 0.5116 Acc: 0.8260\n",
      "\n",
      "Epoch 9/9\n",
      "----------\n"
     ]
    },
    {
     "name": "stderr",
     "output_type": "stream",
     "text": [
      "100%|██████████| 2264/2264 [05:54<00:00,  6.38it/s]\n"
     ]
    },
    {
     "name": "stdout",
     "output_type": "stream",
     "text": [
      "train Loss: 0.4498 Acc: 0.9003\n"
     ]
    },
    {
     "name": "stderr",
     "output_type": "stream",
     "text": [
      "100%|██████████| 125/125 [00:16<00:00,  7.45it/s]\n"
     ]
    },
    {
     "name": "stdout",
     "output_type": "stream",
     "text": [
      "val Loss: 0.5110 Acc: 0.8256\n",
      "\n",
      "Training complete in 64m 25s\n",
      "Best Val Acc: 0.8290\n"
     ]
    }
   ],
   "source": [
    "model_ft, lt,at,lv,av = train_model(model, criterion, optimizer, exp_lr_scheduler, num_epochs=10) # now it is a lot faster"
   ]
  },
  {
   "cell_type": "code",
   "execution_count": 19,
   "metadata": {},
   "outputs": [],
   "source": [
    "classes=['training_real', 'training_fake']"
   ]
  },
  {
   "cell_type": "code",
   "execution_count": 20,
   "metadata": {},
   "outputs": [
    {
     "name": "stderr",
     "output_type": "stream",
     "text": [
      "100%|██████████| 74/74 [00:14<00:00,  5.25it/s]"
     ]
    },
    {
     "name": "stdout",
     "output_type": "stream",
     "text": [
      "Test Loss: 0.0034\n"
     ]
    },
    {
     "name": "stderr",
     "output_type": "stream",
     "text": [
      "\n"
     ]
    }
   ],
   "source": [
    "test_loss = 0.0\n",
    "class_correct = list(0 for i in range(2))\n",
    "class_total = list(0 for i in range(2))\n",
    "model.eval()\n",
    "\n",
    "for data, target in tqdm(test_loader):\n",
    "    data, target = data.to(device), target.to(device)\n",
    "   \n",
    "    if torch.cuda.is_available():\n",
    "      #model.cuda()\n",
    "      model= model.to(device)\n",
    "    with torch.no_grad(): # turn off autograd for faster testing\n",
    "        output = model(data)\n",
    "        loss = criterion(output, target)\n",
    "    test_loss = loss.item() * data.size(0)\n",
    "    _, pred = torch.max(output, 1)\n",
    "    correct_tensor = pred.eq(target.data.view_as(pred))\n",
    "    correct = np.squeeze(correct_tensor.cpu().numpy())\n",
    "\n",
    "    for i in range(len(target)):\n",
    "      label = target.data[i]\n",
    "      class_correct[label] += correct[i].item()\n",
    "      class_total[label] += 1\n",
    "\n",
    "test_loss = test_loss / len(test_loader.dataset) #test_data_len\n",
    "print('Test Loss: {:.4f}'.format(test_loss))\n"
   ]
  },
  {
   "cell_type": "code",
   "execution_count": 21,
   "metadata": {},
   "outputs": [
    {
     "name": "stdout",
     "output_type": "stream",
     "text": [
      "Test Accuracy of training_real: 78% (640/815)\n",
      "Test Accuracy of training_fake: 86% (3350/3890)\n",
      "Test Accuracy of 84% (3990/4705)\n"
     ]
    }
   ],
   "source": [
    "for i in range(len(classes)):\n",
    "    if class_total[i] > 0:\n",
    "        print(\"Test Accuracy of %5s: %2d%% (%2d/%2d)\" % (\n",
    "            classes[i], 100*class_correct[i]/class_total[i], np.sum(class_correct[i]), np.sum(class_total[i])\n",
    "        ))\n",
    "    else:\n",
    "        print(\"Test accuracy of %5s: NA\" % (classes[i]))\n",
    "print(\"Test Accuracy of %2d%% (%2d/%2d)\" % (\n",
    "            100*np.sum(class_correct)/np.sum(class_total), np.sum(class_correct), np.sum(class_total)\n",
    "        ))"
   ]
  },
  {
   "cell_type": "code",
   "execution_count": 22,
   "metadata": {},
   "outputs": [
    {
     "data": {
      "text/plain": [
       "<function matplotlib.pyplot.show(close=None, block=None)>"
      ]
     },
     "execution_count": 22,
     "metadata": {},
     "output_type": "execute_result"
    },
    {
     "data": {
      "image/png": "[encoded data removed]",
      "text/plain": [
       "<Figure size 640x480 with 1 Axes>"
      ]
     },
     "metadata": {},
     "output_type": "display_data"
    }
   ],
   "source": [
    "r1=[class_correct[0], class_total[0]-class_correct[0]]\n",
    "r2= [-class_correct[1] +class_total[1],class_correct[1]]\n",
    "conf=pd.DataFrame([r1,r2])\n",
    "\n",
    "fig, ax = plt.subplots()\n",
    "ax.matshow(conf,cmap='OrRd')\n",
    "\n",
    "ax.set(xlabel='Test', ylabel='Prediction')\n",
    "\n",
    "for i in range(2):\n",
    "  for j in range(2):\n",
    "    c = conf[j][i]\n",
    "    ax.text(i, j, str(c), va='center', ha='center')\n",
    "plt.show"
   ]
  },
  {
   "cell_type": "code",
   "execution_count": 23,
   "metadata": {},
   "outputs": [],
   "source": [
    "at2=[at[a] for a in range(len(at)) if a % 3 == 1 ]\n",
    "lt2=[lt[a] for a in range(len(lt)) if a % 3 == 1 ]\n",
    "at3=[at2[a].item() for a in range(len(at2)) ]\n",
    "av3=[av[a].item() for a in range(len(av)) ]"
   ]
  },
  {
   "cell_type": "code",
   "execution_count": 24,
   "metadata": {},
   "outputs": [
    {
     "data": {
      "image/png": "[encoded data removed]",
      "text/plain": [
       "<Figure size 640x480 with 1 Axes>"
      ]
     },
     "metadata": {},
     "output_type": "display_data"
    },
    {
     "data": {
      "image/png": "[encoded data removed]",
      "text/plain": [
       "<Figure size 640x480 with 1 Axes>"
      ]
     },
     "metadata": {},
     "output_type": "display_data"
    }
   ],
   "source": [
    "def plot_loss(epochs, loss, val_loss):\n",
    "    plt.plot(epochs, loss, 'bo', label='Training Loss')\n",
    "    plt.plot(epochs, val_loss, 'orange', label = 'Validation Loss')\n",
    "    plt.title('Training and Validation Loss')\n",
    "    plt.legend()\n",
    "    plt.show()\n",
    "\n",
    "def plot_accuracy(epochs, acc, val_acc):\n",
    "    plt.plot(epochs, acc, 'bo', label='Training accuracy')\n",
    "    plt.plot(epochs, val_acc, 'orange', label = 'Validation accuracy')\n",
    "    plt.title('Training and Validation Accuracy')\n",
    "    plt.legend()\n",
    "    plt.show();\n",
    "plot_accuracy(range(1, len(av3) + 1), at3, av3)\n",
    "plot_loss(range(1, len(lt2) + 1), lt2, lv)\n"
   ]
  },
  {
   "cell_type": "code",
   "execution_count": 25,
   "metadata": {},
   "outputs": [],
   "source": [
    "# #Training phase imp:\n",
    "\n",
    "# device = torch.device(\"cuda\")\n",
    "# model.to(device)\n",
    "# criterion = nn.CrossEntropyLoss()\n",
    "# optimizer = optim.Adam(model.parameters(), lr=0.001, weight_decay=0.0001)\n",
    "# best_val_loss = float('inf') # initialize with a very high value\n",
    "\n",
    "# for epoch in range(10):\n",
    "#     running_loss = 0.0\n",
    "#     print(\"epoch\", epoch)\n",
    "#     for index, data in enumerate(train_loader):\n",
    "#         # print(\"input is \", data[0], \"and label is \", data[1])\n",
    "#         inputs, labels = data\n",
    "#         inputs, labels = inputs.to(device), labels.to(device)\n",
    "#         optimizer.zero_grad()\n",
    "#         outputs = model(inputs)\n",
    "#         loss = criterion(outputs, labels)\n",
    "#         loss.backward()\n",
    "#         optimizer.step()\n",
    "#         running_loss += loss.item()\n",
    "#         if index % 100 == 99:    \n",
    "#             print('[%d, %5d] loss: %.3f' %\n",
    "#                   (epoch + 1, index + 1, running_loss / 100))\n",
    "#             running_loss = 0.0\n",
    "#     # Validate the model on validation dataset\n",
    "#     val_loss = 0.0\n",
    "#     with torch.no_grad():\n",
    "#         for index, data in enumerate(val_loader):\n",
    "#             inputs, labels = data\n",
    "#             inputs, labels = inputs.to(device), labels.to(device)\n",
    "#             outputs = model(inputs)\n",
    "#             loss = criterion(outputs, labels)\n",
    "#             val_loss += loss.item()\n",
    "#         val_loss /= len(val_loader)\n",
    "\n",
    "#     print('[%d] validation loss: %.3f' % (epoch + 1, val_loss))\n",
    "\n",
    "#     # Save the model with the best validation loss\n",
    "#     if val_loss < best_val_loss:\n",
    "#         best_val_loss = val_loss\n",
    "#         torch.save(model.state_dict(), 'best_model.pth')\n"
   ]
  },
  {
   "cell_type": "code",
   "execution_count": 26,
   "metadata": {},
   "outputs": [],
   "source": [
    "# def test_model(model, test_loader, checkpoint_path='best_model.pth'):\n",
    "#     # load the best model checkpoint\n",
    "#     checkpoint = torch.load(checkpoint_path)\n",
    "#     model.load_state_dict(checkpoint)\n",
    "#     model.eval()\n",
    " \n",
    "#     correct = 0\n",
    "#     total = 0\n",
    "#     with torch.no_grad():\n",
    "#         tp = 0\n",
    "#         fp = 0\n",
    "#         fn = 0 \n",
    "#         tn = 0\n",
    "#         for data in test_loader:\n",
    "#             images, labels = data\n",
    "#             images, labels = images.to(device), labels.to(device)\n",
    "#             outputs = model(images)\n",
    "#             _, predicted = torch.max(outputs.data, 1)\n",
    "#             total += labels.size(0)\n",
    "#             correct += (predicted == labels).sum().item()\n",
    "#             #TODO: For calculation of precision, accuracy, recall and F1 score, get related elements.\n",
    "            \n",
    "#             for gt_label, pred_label in zip(labels, predicted):\n",
    "#                 if (gt_label == 1 and pred_label == 1):\n",
    "#                     tp = tp + 1\n",
    "#                 if (gt_label == 0 and pred_label == 1):\n",
    "#                     fp = fp + 1\n",
    "#                 if (gt_label == 1 and pred_label == 0):\n",
    "#                     fn = fn + 1\n",
    "#                 if (gt_label == 0 and pred_label == 0):\n",
    "#                     tn = tn + 1\n",
    "#     print(fp, fn, tp, tn)\n",
    "#     print('Accuracy of the network on the test images: %d %%' % (\n",
    "#         100 * correct / total))\n",
    "#     return correct, fp, fn, tp, tn\n",
    "# correct, fp, fn, tp, tn = test_model(model, test_loader, 'best_model.pth')\n"
   ]
  },
  {
   "cell_type": "code",
   "execution_count": 27,
   "metadata": {},
   "outputs": [],
   "source": [
    "# import seaborn as sns\n",
    "# def showcm(fp,fn,tp,tn):\n",
    "\n",
    "#         labels = ['+', '-']\n",
    "        \n",
    "#         # Create the matrix\n",
    "#         confusion_matrix = np.array([[tp, fp],\n",
    "#                                     [fn, tn]])\n",
    "\n",
    "#         # Plot the matrix\n",
    "#         sns.set(font_scale=1.4)\n",
    "#         sns.heatmap(confusion_matrix, annot=True, fmt='d', cmap='Blues', xticklabels=labels, yticklabels=labels)\n",
    "\n",
    "#         # Set plot properties\n",
    "#         plt.xlabel('Actual')\n",
    "#         plt.ylabel('Predicted')\n",
    "#         plt.title('Confusion Matrix')\n",
    "#         plt.show()\n",
    "# showcm(fp, fn, tp, tn)"
   ]
  },
  {
   "cell_type": "code",
   "execution_count": 28,
   "metadata": {},
   "outputs": [],
   "source": [
    "# # Print the true positive, true negative, false positive, and false negative values\n",
    "# print(\"True Positive (TP): \", tp)\n",
    "# print(\"True Negative (TN): \", tn)\n",
    "# print(\"False Positive (FP): \", fp)\n",
    "# print(\"False Negative (FN): \", fn)\n",
    " \n",
    "# # Calculate accuracy\n",
    "# accuracy = (tp + tn) / (tp + tn + fp + fn)\n",
    " \n",
    "# # Calculate precision\n",
    "# precision = tp / (tp + fp)\n",
    " \n",
    "# # Calculate recall\n",
    "# recall = tp / (tp + fn)\n",
    " \n",
    "# # Calculate F1-score\n",
    "# f1_score = 2 * (precision * recall) / (precision + recall)\n",
    "\n",
    "# # Print the accuracy, precision, recall, and F1-score\n",
    "# print(\"\\n\\nMetrics:\")\n",
    "# print(\"Accuracy: \", round(accuracy, 2))\n",
    "# print(\"Precision: \", round(precision, 2))\n",
    "# print(\"Recall: \", round(recall, 2))\n",
    "# print(\"F1-score: \", round(f1_score, 2))"
   ]
  },
  {
   "cell_type": "code",
   "execution_count": 29,
   "metadata": {},
   "outputs": [],
   "source": [
    "# from torchsummary import summary\n",
    "# summary(model, [3,224,224])"
   ]
  },
  {
   "cell_type": "code",
   "execution_count": 30,
   "metadata": {},
   "outputs": [],
   "source": [
    "# # lt2=[lt[a] for a in range(len(lt)) if a % 3 == 1 ]\n",
    "# def plot_loss(epochs, loss, val_loss):\n",
    "#     plt.plot(epochs, loss, 'bo', label='Training Loss')\n",
    "#     plt.plot(epochs, val_loss, 'orange', label = 'Validation Loss')\n",
    "#     plt.title('Training and Validation Loss')\n",
    "#     plt.legend()\n",
    "#     plt.show()\n",
    "\n",
    "# def plot_accuracy(epochs, acc, val_acc):\n",
    "#     plt.plot(epochs, acc, 'bo', label='Training accuracy')\n",
    "#     plt.plot(epochs, val_acc, 'orange', label = 'Validation accuracy')\n",
    "#     plt.title('Training and Validation Accuracy')\n",
    "#     plt.legend()\n",
    "#     plt.show()\n",
    "# plot_accuracy(range(1, len(av3) + 1), at3, av3)\n",
    "# plot_loss(range(1, len(lt2) + 1), lt2, lv)"
   ]
  }
 ],
 "metadata": {
  "kernelspec": {
   "display_name": "cs464hws",
   "language": "python",
   "name": "python3"
  },
  "language_info": {
   "codemirror_mode": {
    "name": "ipython",
    "version": 3
   },
   "file_extension": ".py",
   "mimetype": "text/x-python",
   "name": "python",
   "nbconvert_exporter": "python",
   "pygments_lexer": "ipython3",
   "version": "3.9.16"
  },
  "orig_nbformat": 4
 },
 "nbformat": 4,
 "nbformat_minor": 2
}
